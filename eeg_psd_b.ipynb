{
 "cells": [
  {
   "cell_type": "code",
   "execution_count": 1,
   "metadata": {},
   "outputs": [],
   "source": [
    "import pandas as pd\n",
    "dataset=pd.read_csv(\"user_b_0.csv\")\n",
    "frame = pd.DataFrame(dataset)\n",
    "df=frame"
   ]
  },
  {
   "cell_type": "code",
   "execution_count": 2,
   "metadata": {},
   "outputs": [],
   "source": [
    "\n",
    "# t_n=10\n",
    "# N=1000\n",
    "# T=t_n/N\n",
    "# f_s=1/T"
   ]
  },
  {
   "cell_type": "code",
   "execution_count": 3,
   "metadata": {},
   "outputs": [
    {
     "data": {
      "text/plain": [
       "960"
      ]
     },
     "execution_count": 3,
     "metadata": {},
     "output_type": "execute_result"
    }
   ],
   "source": [
    "df.shape[0]"
   ]
  },
  {
   "cell_type": "code",
   "execution_count": 3,
   "metadata": {},
   "outputs": [],
   "source": [
    "from scipy.signal import welch\n",
    "final={}\n",
    "for i in df.columns:\n",
    "    sig=df[i]\n",
    "    f_values,psd_values=welch(sig,fs=60)\n",
    "    intermediate_dictionary = {i:psd_values}\n",
    "    final.update(intermediate_dictionary)\n",
    "\n",
    "dataframe0 = pd.DataFrame(final)\n",
    "j=0\n",
    "Class=[]\n",
    "while j < dataframe0.shape[0]:\n",
    "    Class.append(0)\n",
    "    j+=1\n",
    "\n",
    "dataframe0['class']=Class"
   ]
  },
  {
   "cell_type": "code",
   "execution_count": 5,
   "metadata": {},
   "outputs": [
    {
     "data": {
      "text/plain": [
       "(129, 113)"
      ]
     },
     "execution_count": 5,
     "metadata": {},
     "output_type": "execute_result"
    }
   ],
   "source": [
    "dataframe0.shape\n"
   ]
  },
  {
   "cell_type": "code",
   "execution_count": null,
   "metadata": {},
   "outputs": [],
   "source": [
    "# print(len(Class))\n",
    "# print(dataframe0 .shape[0])"
   ]
  },
  {
   "cell_type": "code",
   "execution_count": 4,
   "metadata": {},
   "outputs": [],
   "source": [
    "dataset=pd.read_csv(\"user_b_1.csv\")\n",
    "frame = pd.DataFrame(dataset)\n",
    "#col=['AF3 alpha std','F7 alpha std','F3 alpha std','FC5 alpha std', 'T7 alpha std','P7 alpha std', 'O1 alpha std', 'O2 alpha std', 'P8 alpha std','T8 alpha std', 'FC6 alpha std','F4 alpha std', 'F8 alpha std','AF4 alpha std']\n",
    "#df=pd.DataFrame(frame, columns=col)\n",
    "df=frame\n",
    "final={}\n",
    "for i in df.columns:\n",
    "    sig=df[i]\n",
    "    f_values,psd_values=welch(sig,fs=60)\n",
    "    intermediate_dictionary = {i:psd_values}\n",
    "    final.update(intermediate_dictionary)\n",
    "\n",
    "dataframe1 = pd.DataFrame(final)\n",
    "j=0\n",
    "Class=[]\n",
    "while j < dataframe1.shape[0]:\n",
    "    Class.append(1)\n",
    "    j+=1\n",
    "\n",
    "dataframe1['class']=Class"
   ]
  },
  {
   "cell_type": "code",
   "execution_count": 7,
   "metadata": {},
   "outputs": [
    {
     "data": {
      "text/plain": [
       "(129, 113)"
      ]
     },
     "execution_count": 7,
     "metadata": {},
     "output_type": "execute_result"
    }
   ],
   "source": [
    "dataframe1.shape"
   ]
  },
  {
   "cell_type": "code",
   "execution_count": 5,
   "metadata": {},
   "outputs": [],
   "source": [
    "dataset=pd.read_csv(\"user_b_2.csv\")\n",
    "frame = pd.DataFrame(dataset)\n",
    "#col=['AF3 alpha std','F7 alpha std','F3 alpha std','FC5 alpha std', 'T7 alpha std','P7 alpha std', 'O1 alpha std', 'O2 alpha std', 'P8 alpha std','T8 alpha std', 'FC6 alpha std','F4 alpha std', 'F8 alpha std','AF4 alpha std']\n",
    "#df=pd.DataFrame(frame, columns=col)\n",
    "df=frame\n",
    "final={}\n",
    "for i in df.columns:\n",
    "    sig=df[i]\n",
    "    f_values,psd_values=welch(sig,fs=60)\n",
    "    intermediate_dictionary = {i:psd_values}\n",
    "    final.update(intermediate_dictionary)\n",
    "\n",
    "dataframe2 = pd.DataFrame(final)\n",
    "j=0\n",
    "Class=[]\n",
    "while j < dataframe2.shape[0]:\n",
    "    Class.append(2)\n",
    "    j+=1\n",
    "    \n",
    "dataframe2['class']=Class"
   ]
  },
  {
   "cell_type": "code",
   "execution_count": 9,
   "metadata": {},
   "outputs": [
    {
     "data": {
      "text/plain": [
       "(129, 113)"
      ]
     },
     "execution_count": 9,
     "metadata": {},
     "output_type": "execute_result"
    }
   ],
   "source": [
    "dataframe2.shape"
   ]
  },
  {
   "cell_type": "code",
   "execution_count": 6,
   "metadata": {},
   "outputs": [],
   "source": [
    "frame=[dataframe0,dataframe1,dataframe2]\n",
    "result = pd.concat(frame)\n",
    "#result"
   ]
  },
  {
   "cell_type": "code",
   "execution_count": 7,
   "metadata": {},
   "outputs": [],
   "source": [
    "result.to_csv('psd_b.csv')"
   ]
  },
  {
   "cell_type": "code",
   "execution_count": null,
   "metadata": {},
   "outputs": [],
   "source": [
    "result"
   ]
  },
  {
   "cell_type": "code",
   "execution_count": null,
   "metadata": {},
   "outputs": [],
   "source": []
  }
 ],
 "metadata": {
  "kernelspec": {
   "display_name": "Python 3",
   "language": "python",
   "name": "python3"
  },
  "language_info": {
   "codemirror_mode": {
    "name": "ipython",
    "version": 3
   },
   "file_extension": ".py",
   "mimetype": "text/x-python",
   "name": "python",
   "nbconvert_exporter": "python",
   "pygments_lexer": "ipython3",
   "version": "3.7.3"
  }
 },
 "nbformat": 4,
 "nbformat_minor": 4
}
